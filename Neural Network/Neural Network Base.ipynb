{
 "cells": [
  {
   "cell_type": "code",
   "execution_count": null,
   "metadata": {},
   "outputs": [],
   "source": [
    "import numpy as np \n",
    "import pandas as pd\n",
    "import matplotlib.pyplot as plt"
   ]
  },
  {
   "cell_type": "code",
   "execution_count": null,
   "metadata": {},
   "outputs": [],
   "source": [
    "class Layer:\n",
    "    def __init__(self, input_size, output_size):\n",
    "        self.weight = np.random.randn(output_size, input_size) * 0.01\n",
    "        self.bias = np.zeros((output_size, 1))\n",
    "        print(\"Weights:\")\n",
    "        print(self.weight)\n",
    "        print(\"Biases:\")\n",
    "        print(self.bias)\n",
    "        \n",
    "        \n",
    "    def sigmoid(self, x):\n",
    "        return 1 / (1 + np.exp(-x))\n",
    "    \n",
    "    def sigmoid_derivative(self, x):\n",
    "        return x * (1 - x)\n",
    "    \n",
    "    \n",
    "    def MSE_loss(self, a, y):\n",
    "        return (a - y) ^ 2, 2 * (a-y)\n",
    "            \n",
    "    def forward_propagation(self, X):\n",
    "        self.Z = np.dot(self.W, X) + self.B\n",
    "        self.A = self.sigmoid(self.Z)\n",
    "        return self.A\n",
    "    \n",
    "    def back_propagation(self, dA, X):\n",
    "        m = X.shape[1]\n",
    "        \n",
    "        \n",
    "        return "
   ]
  },
  {
   "cell_type": "code",
   "execution_count": null,
   "metadata": {},
   "outputs": [],
   "source": [
    "Layer1 = Layer(3,2)\n",
    "input_data = np.array([[1], [4], [7]])\n",
    "print()\n",
    "print(input_data)\n",
    "print()\n",
    "print(\"Forward Output\")\n",
    "print(Layer1.forward_propagation(input_data))\n",
    "true_output = np.array([[1], [0]])\n",
    "print()\n",
    "print(\"Back Output\")\n",
    "print(Layer1.back_propagation(true_output, input_data))\n",
    "print(input_data.shape[1])"
   ]
  }
 ],
 "metadata": {
  "kernelspec": {
   "display_name": "Python 3",
   "language": "python",
   "name": "python3"
  },
  "language_info": {
   "codemirror_mode": {
    "name": "ipython",
    "version": 3
   },
   "file_extension": ".py",
   "mimetype": "text/x-python",
   "name": "python",
   "nbconvert_exporter": "python",
   "pygments_lexer": "ipython3",
   "version": "3.11.9"
  }
 },
 "nbformat": 4,
 "nbformat_minor": 2
}
